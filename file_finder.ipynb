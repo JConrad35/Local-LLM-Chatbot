{
 "cells": [
  {
   "cell_type": "code",
   "execution_count": 1,
   "metadata": {},
   "outputs": [],
   "source": [
    "from langchain_core.prompts import ChatPromptTemplate\n",
    "from langchain_ollama import OllamaLLM\n",
    "import os"
   ]
  },
  {
   "cell_type": "code",
   "execution_count": 3,
   "metadata": {},
   "outputs": [],
   "source": [
    "# Function to search for files\n",
    "def search_files(name, path): # might have to add a path to variable 'path'\n",
    "    result = []\n",
    "    for root, dirs, files in os.walk(path):\n",
    "        if name in files:\n",
    "            result.append(os.path.join(root, name))\n",
    "            return result"
   ]
  },
  {
   "cell_type": "code",
   "execution_count": 4,
   "metadata": {},
   "outputs": [
    {
     "data": {
      "text/plain": [
       "\"I'm ready to help. What is the file name you would like to find on your computer?\""
      ]
     },
     "execution_count": 4,
     "metadata": {},
     "output_type": "execute_result"
    }
   ],
   "source": [
    "# Chat Prompt Template\n",
    "template = ChatPromptTemplate([\n",
    "    (\"system\", \n",
    "     \"\"\"\"\n",
    "     You are an ai assistant that helps users find files on their computer. These are your instructions:\n",
    "        1. The user will provide you with a file name.\n",
    "        2. You will search the user's computer for the file.\n",
    "        3. If the file is found, you will return the file path.\n",
    "        4. If the file is not found, you will let the user know.\n",
    "     \"\"\"),\n",
    "    (\"human\", \"Help me find the file {file_name}.\"),\n",
    "    (\"ai\", \"I can help you find the file {file_name}.\"),\n",
    "    (\"system\", \"Searching for file {file_name}.\"),\n",
    "    (\"ai\", \"I found the file '{file_name}' at the following path: {file_path}.\"),\n",
    "    (\"ai\", \"I'm sorry, I couldn't find the file '{file_name}'.\"),\n",
    "    (\"human\", \"Thank you.\"),\n",
    "    (\"ai\", \"You're welcome. Let me know if you need to find another file.\"),\n",
    "])\n",
    "\n",
    "model = OllamaLLM(model=\"llama3.2\")\n",
    "\n",
    "chain = template | model\n",
    "\n",
    "chain.invoke({\n",
    "    \"file_name\": \"example.txt\",\n",
    "    \"file_path\": \"C:/Users/username/Documents/example.txt\"\n",
    "})"
   ]
  },
  {
   "cell_type": "code",
   "execution_count": null,
   "metadata": {},
   "outputs": [],
   "source": []
  }
 ],
 "metadata": {
  "kernelspec": {
   "display_name": ".venv",
   "language": "python",
   "name": "python3"
  },
  "language_info": {
   "codemirror_mode": {
    "name": "ipython",
    "version": 3
   },
   "file_extension": ".py",
   "mimetype": "text/x-python",
   "name": "python",
   "nbconvert_exporter": "python",
   "pygments_lexer": "ipython3",
   "version": "3.11.9"
  }
 },
 "nbformat": 4,
 "nbformat_minor": 2
}
